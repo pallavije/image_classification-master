{
 "cells": [
  {
   "cell_type": "markdown",
   "metadata": {
    "collapsed": true,
    "deletable": true,
    "editable": true
   },
   "source": [
    "# Image Classification\n",
    "In this project, you'll classify images from the [CIFAR-10 dataset](https://www.cs.toronto.edu/~kriz/cifar.html).  The dataset consists of airplanes, dogs, cats, and other objects. You'll preprocess the images, then train a convolutional neural network on all the samples. The images need to be normalized and the labels need to be one-hot encoded.  You'll get to apply what you learned and build a convolutional, max pooling, dropout, and fully connected layers.  At the end, you'll get to see your neural network's predictions on the sample images.\n",
    "## Get the Data\n",
    "Run the following cell to download the [CIFAR-10 dataset for python](https://www.cs.toronto.edu/~kriz/cifar-10-python.tar.gz)."
   ]
  },
  {
   "cell_type": "code",
   "execution_count": 1,
   "metadata": {
    "collapsed": false,
    "deletable": true,
    "editable": true
   },
   "outputs": [
    {
     "name": "stderr",
     "output_type": "stream",
     "text": [
      "CIFAR-10 Dataset: 171MB [01:37, 1.75MB/s]                              \n"
     ]
    },
    {
     "name": "stdout",
     "output_type": "stream",
     "text": [
      "All files found!\n"
     ]
    }
   ],
   "source": [
    "\"\"\"\n",
    "DON'T MODIFY ANYTHING IN THIS CELL THAT IS BELOW THIS LINE\n",
    "\"\"\"\n",
    "from urllib.request import urlretrieve\n",
    "from os.path import isfile, isdir\n",
    "from tqdm import tqdm\n",
    "import problem_unittests as tests\n",
    "import tarfile\n",
    "\n",
    "cifar10_dataset_folder_path = 'cifar-10-batches-py'\n",
    "\n",
    "class DLProgress(tqdm):\n",
    "    last_block = 0\n",
    "\n",
    "    def hook(self, block_num=1, block_size=1, total_size=None):\n",
    "        self.total = total_size\n",
    "        self.update((block_num - self.last_block) * block_size)\n",
    "        self.last_block = block_num\n",
    "\n",
    "if not isfile('cifar-10-python.tar.gz'):\n",
    "    with DLProgress(unit='B', unit_scale=True, miniters=1, desc='CIFAR-10 Dataset') as pbar:\n",
    "        urlretrieve(\n",
    "            'https://www.cs.toronto.edu/~kriz/cifar-10-python.tar.gz',\n",
    "            'cifar-10-python.tar.gz',\n",
    "            pbar.hook)\n",
    "\n",
    "if not isdir(cifar10_dataset_folder_path):\n",
    "    with tarfile.open('cifar-10-python.tar.gz') as tar:\n",
    "        tar.extractall()\n",
    "        tar.close()\n",
    "\n",
    "\n",
    "tests.test_folder_path(cifar10_dataset_folder_path)"
   ]
  },
  {
   "cell_type": "markdown",
   "metadata": {
    "deletable": true,
    "editable": true
   },
   "source": [
    "## Explore the Data\n",
    "The dataset is broken into batches to prevent your machine from running out of memory.  The CIFAR-10 dataset consists of 5 batches, named `data_batch_1`, `data_batch_2`, etc.. Each batch contains the labels and images that are one of the following:\n",
    "* airplane\n",
    "* automobile\n",
    "* bird\n",
    "* cat\n",
    "* deer\n",
    "* dog\n",
    "* frog\n",
    "* horse\n",
    "* ship\n",
    "* truck\n",
    "\n",
    "Understanding a dataset is part of making predictions on the data.  Play around with the code cell below by changing the `batch_id` and `sample_id`. The `batch_id` is the id for a batch (1-5). The `sample_id` is the id for a image and label pair in the batch.\n",
    "\n",
    "Ask yourself \"What are all possible labels?\", \"What is the range of values for the image data?\", \"Are the labels in order or random?\".  Answers to questions like these will help you preprocess the data and end up with better predictions."
   ]
  },
  {
   "cell_type": "code",
   "execution_count": 7,
   "metadata": {
    "collapsed": false,
    "deletable": true,
    "editable": true
   },
   "outputs": [
    {
     "name": "stdout",
     "output_type": "stream",
     "text": [
      "\n",
      "Stats of batch 4:\n",
      "Samples: 10000\n",
      "Label Counts: {0: 1003, 1: 963, 2: 1041, 3: 976, 4: 1004, 5: 1021, 6: 1004, 7: 981, 8: 1024, 9: 983}\n",
      "First 20 Labels: [0, 6, 0, 2, 7, 2, 1, 2, 4, 1, 5, 6, 6, 3, 1, 3, 5, 5, 8, 1]\n",
      "\n",
      "Example of Image 3:\n",
      "Image - Min Value: 0 Max Value: 248\n",
      "Image - Shape: (32, 32, 3)\n",
      "Label - Label Id: 2 Name: bird\n"
     ]
    },
    {
     "data": {
      "image/png": "[encoded data removed]",
      "text/plain": [
       "<matplotlib.figure.Figure at 0x7fb887cddb70>"
      ]
     },
     "metadata": {
      "image/png": {
       "height": 250,
       "width": 253
      }
     },
     "output_type": "display_data"
    }
   ],
   "source": [
    "%matplotlib inline\n",
    "%config InlineBackend.figure_format = 'retina'\n",
    "\n",
    "import helper\n",
    "import numpy as np\n",
    "\n",
    "# Explore the dataset\n",
    "batch_id = 4\n",
    "sample_id = 3\n",
    "helper.display_stats(cifar10_dataset_folder_path, batch_id, sample_id)"
   ]
  },
  {
   "cell_type": "markdown",
   "metadata": {
    "deletable": true,
    "editable": true
   },
   "source": [
    "## Implement Preprocess Functions\n",
    "### Normalize\n",
    "In the cell below, implement the `normalize` function to take in image data, `x`, and return it as a normalized Numpy array. The values should be in the range of 0 to 1, inclusive.  The return object should be the same shape as `x`."
   ]
  },
  {
   "cell_type": "code",
   "execution_count": 8,
   "metadata": {
    "collapsed": false,
    "deletable": true,
    "editable": true
   },
   "outputs": [
    {
     "name": "stdout",
     "output_type": "stream",
     "text": [
      "Tests Passed\n"
     ]
    }
   ],
   "source": [
    "def normalize(x):\n",
    "    \"\"\"\n",
    "    Normalize a list of sample image data in the range of 0 to 1\n",
    "    : x: List of image data.  The image shape is (32, 32, 3)\n",
    "    : return: Numpy array of normalize data\n",
    "    \"\"\"\n",
    "    x = np.array((x) / (255))\n",
    "    return x\n",
    "\n",
    "\n",
    "\"\"\"\n",
    "DON'T MODIFY ANYTHING IN THIS CELL THAT IS BELOW THIS LINE\n",
    "\"\"\"\n",
    "tests.test_normalize(normalize)"
   ]
  },
  {
   "cell_type": "markdown",
   "metadata": {
    "deletable": true,
    "editable": true
   },
   "source": [
    "### One-hot encode\n",
    "Just like the previous code cell, you'll be implementing a function for preprocessing.  This time, you'll implement the `one_hot_encode` function. The input, `x`, are a list of labels.  Implement the function to return the list of labels as One-Hot encoded Numpy array.  The possible values for labels are 0 to 9. The one-hot encoding function should return the same encoding for each value between each call to `one_hot_encode`.  Make sure to save the map of encodings outside the function.\n",
    "\n",
    "Hint: Don't reinvent the wheel."
   ]
  },
  {
   "cell_type": "code",
   "execution_count": 9,
   "metadata": {
    "collapsed": false,
    "deletable": true,
    "editable": true
   },
   "outputs": [
    {
     "name": "stdout",
     "output_type": "stream",
     "text": [
      "Tests Passed\n"
     ]
    }
   ],
   "source": [
    "def one_hot_encode(x):\n",
    "    \"\"\"\n",
    "    One hot encode a list of sample labels. Return a one-hot encoded vector for each label.\n",
    "    : x: List of sample Labels\n",
    "    : return: Numpy array of one-hot encoded labels\n",
    "    \"\"\"\n",
    "    # TODO: Implement Function\n",
    "    return np.eye(10)[x]\n",
    "\n",
    "\n",
    "\"\"\"\n",
    "DON'T MODIFY ANYTHING IN THIS CELL THAT IS BELOW THIS LINE\n",
    "\"\"\"\n",
    "tests.test_one_hot_encode(one_hot_encode)"
   ]
  },
  {
   "cell_type": "markdown",
   "metadata": {
    "deletable": true,
    "editable": true
   },
   "source": [
    "### Randomize Data\n",
    "As you saw from exploring the data above, the order of the samples are randomized.  It doesn't hurt to randomize it again, but you don't need to for this dataset."
   ]
  },
  {
   "cell_type": "markdown",
   "metadata": {
    "deletable": true,
    "editable": true
   },
   "source": [
    "## Preprocess all the data and save it\n",
    "Running the code cell below will preprocess all the CIFAR-10 data and save it to file. The code below also uses 10% of the training data for validation."
   ]
  },
  {
   "cell_type": "code",
   "execution_count": 10,
   "metadata": {
    "collapsed": false,
    "deletable": true,
    "editable": true
   },
   "outputs": [],
   "source": [
    "\"\"\"\n",
    "DON'T MODIFY ANYTHING IN THIS CELL\n",
    "\"\"\"\n",
    "# Preprocess Training, Validation, and Testing Data\n",
    "helper.preprocess_and_save_data(cifar10_dataset_folder_path, normalize, one_hot_encode)"
   ]
  },
  {
   "cell_type": "markdown",
   "metadata": {
    "deletable": true,
    "editable": true
   },
   "source": [
    "# Check Point\n",
    "This is your first checkpoint.  If you ever decide to come back to this notebook or have to restart the notebook, you can start from here.  The preprocessed data has been saved to disk."
   ]
  },
  {
   "cell_type": "code",
   "execution_count": 11,
   "metadata": {
    "collapsed": true,
    "deletable": true,
    "editable": true
   },
   "outputs": [],
   "source": [
    "\"\"\"\n",
    "DON'T MODIFY ANYTHING IN THIS CELL\n",
    "\"\"\"\n",
    "import pickle\n",
    "import problem_unittests as tests\n",
    "import helper\n",
    "\n",
    "# Load the Preprocessed Validation data\n",
    "valid_features, valid_labels = pickle.load(open('preprocess_validation.p', mode='rb'))"
   ]
  },
  {
   "cell_type": "markdown",
   "metadata": {
    "deletable": true,
    "editable": true
   },
   "source": [
    "## Build the network\n",
    "For the neural network, you'll build each layer into a function.  Most of the code you've seen has been outside of functions. To test your code more thoroughly, we require that you put each layer in a function.  This allows us to give you better feedback and test for simple mistakes using our unittests before you submit your project.\n",
    "\n",
    ">**Note:** If you're finding it hard to dedicate enough time for this course each week, we've provided a small shortcut to this part of the project. In the next couple of problems, you'll have the option to use classes from the [TensorFlow Layers](https://www.tensorflow.org/api_docs/python/tf/layers) or [TensorFlow Layers (contrib)](https://www.tensorflow.org/api_guides/python/contrib.layers) packages to build each layer, except the layers you build in the \"Convolutional and Max Pooling Layer\" section.  TF Layers is similar to Keras's and TFLearn's abstraction to layers, so it's easy to pickup.\n",
    "\n",
    ">However, if you would like to get the most out of this course, try to solve all the problems _without_ using anything from the TF Layers packages. You **can** still use classes from other packages that happen to have the same name as ones you find in TF Layers! For example, instead of using the TF Layers version of the `conv2d` class, [tf.layers.conv2d](https://www.tensorflow.org/api_docs/python/tf/layers/conv2d), you would want to use the TF Neural Network version of `conv2d`, [tf.nn.conv2d](https://www.tensorflow.org/api_docs/python/tf/nn/conv2d). \n",
    "\n",
    "Let's begin!\n",
    "\n",
    "### Input\n",
    "The neural network needs to read the image data, one-hot encoded labels, and dropout keep probability. Implement the following functions\n",
    "* Implement `neural_net_image_input`\n",
    " * Return a [TF Placeholder](https://www.tensorflow.org/api_docs/python/tf/placeholder)\n",
    " * Set the shape using `image_shape` with batch size set to `None`.\n",
    " * Name the TensorFlow placeholder \"x\" using the TensorFlow `name` parameter in the [TF Placeholder](https://www.tensorflow.org/api_docs/python/tf/placeholder).\n",
    "* Implement `neural_net_label_input`\n",
    " * Return a [TF Placeholder](https://www.tensorflow.org/api_docs/python/tf/placeholder)\n",
    " * Set the shape using `n_classes` with batch size set to `None`.\n",
    " * Name the TensorFlow placeholder \"y\" using the TensorFlow `name` parameter in the [TF Placeholder](https://www.tensorflow.org/api_docs/python/tf/placeholder).\n",
    "* Implement `neural_net_keep_prob_input`\n",
    " * Return a [TF Placeholder](https://www.tensorflow.org/api_docs/python/tf/placeholder) for dropout keep probability.\n",
    " * Name the TensorFlow placeholder \"keep_prob\" using the TensorFlow `name` parameter in the [TF Placeholder](https://www.tensorflow.org/api_docs/python/tf/placeholder).\n",
    "\n",
    "These names will be used at the end of the project to load your saved model.\n",
    "\n",
    "Note: `None` for shapes in TensorFlow allow for a dynamic size."
   ]
  },
  {
   "cell_type": "code",
   "execution_count": 12,
   "metadata": {
    "collapsed": false,
    "deletable": true,
    "editable": true
   },
   "outputs": [
    {
     "name": "stdout",
     "output_type": "stream",
     "text": [
      "Image Input Tests Passed.\n",
      "Label Input Tests Passed.\n",
      "Keep Prob Tests Passed.\n"
     ]
    }
   ],
   "source": [
    "import tensorflow as tf\n",
    "\n",
    "def neural_net_image_input(image_shape):\n",
    "    \"\"\"\n",
    "    Return a Tensor for a bach of image input\n",
    "    : image_shape: Shape of the images\n",
    "    : return: Tensor for image input.\n",
    "    \"\"\"\n",
    "    # TODO: Implement Function\n",
    "    return tf.placeholder(dtype=tf.float32, shape=[None, image_shape[0], image_shape[1], image_shape[2]], name=\"x\")\n",
    "\n",
    "\n",
    "def neural_net_label_input(n_classes):\n",
    "    \"\"\"\n",
    "    Return a Tensor for a batch of label input\n",
    "    : n_classes: Number of classes\n",
    "    : return: Tensor for label input.\n",
    "    \"\"\"\n",
    "    # TODO: Implement Function\n",
    "    return tf.placeholder(dtype=tf.float32, shape=[None, n_classes], name=\"y\")\n",
    "\n",
    "\n",
    "def neural_net_keep_prob_input():\n",
    "    \"\"\"\n",
    "    Return a Tensor for keep probability\n",
    "    : return: Tensor for keep probability.\n",
    "    \"\"\"\n",
    "    # TODO: Implement Function\n",
    "    return tf.placeholder(dtype=tf.float32, name=\"keep_prob\")\n",
    "\n",
    "\n",
    "\"\"\"\n",
    "DON'T MODIFY ANYTHING IN THIS CELL THAT IS BELOW THIS LINE\n",
    "\"\"\"\n",
    "tf.reset_default_graph()\n",
    "tests.test_nn_image_inputs(neural_net_image_input)\n",
    "tests.test_nn_label_inputs(neural_net_label_input)\n",
    "tests.test_nn_keep_prob_inputs(neural_net_keep_prob_input)"
   ]
  },
  {
   "cell_type": "markdown",
   "metadata": {
    "deletable": true,
    "editable": true
   },
   "source": [
    "### Convolution and Max Pooling Layer\n",
    "Convolution layers have a lot of success with images. For this code cell, you should implement the function `conv2d_maxpool` to apply convolution then max pooling:\n",
    "* Create the weight and bias using `conv_ksize`, `conv_num_outputs` and the shape of `x_tensor`.\n",
    "* Apply a convolution to `x_tensor` using weight and `conv_strides`.\n",
    " * We recommend you use same padding, but you're welcome to use any padding.\n",
    "* Add bias\n",
    "* Add a nonlinear activation to the convolution.\n",
    "* Apply Max Pooling using `pool_ksize` and `pool_strides`.\n",
    " * We recommend you use same padding, but you're welcome to use any padding.\n",
    "\n",
    "**Note:** You **can't** use [TensorFlow Layers](https://www.tensorflow.org/api_docs/python/tf/layers) or [TensorFlow Layers (contrib)](https://www.tensorflow.org/api_guides/python/contrib.layers) for **this** layer, but you can still use TensorFlow's [Neural Network](https://www.tensorflow.org/api_docs/python/tf/nn) package. You may still use the shortcut option for all the **other** layers."
   ]
  },
  {
   "cell_type": "code",
   "execution_count": 13,
   "metadata": {
    "collapsed": false,
    "deletable": true,
    "editable": true
   },
   "outputs": [
    {
     "name": "stdout",
     "output_type": "stream",
     "text": [
      "Tests Passed\n"
     ]
    }
   ],
   "source": [
    "def conv2d_maxpool(x_tensor, conv_num_outputs, conv_ksize, conv_strides, pool_ksize, pool_strides):\n",
    "    \"\"\"\n",
    "    Apply convolution then max pooling to x_tensor\n",
    "    :param x_tensor: TensorFlow Tensor\n",
    "    :param conv_num_outputs: Number of outputs for the convolutional layer\n",
    "    :param conv_ksize: kernal size 2-D Tuple for the convolutional layer\n",
    "    :param conv_strides: Stride 2-D Tuple for convolution\n",
    "    :param pool_ksize: kernal size 2-D Tuple for pool\n",
    "    :param pool_strides: Stride 2-D Tuple for pool\n",
    "    : return: A tensor that represents convolution and max pooling of x_tensor\n",
    "    \"\"\"\n",
    "    # TODO: Implement Function\n",
    "    shape = [conv_ksize[0], conv_ksize[1], x_tensor.get_shape().as_list()[-1], conv_num_outputs]\n",
    "    weights = tf.Variable(tf.truncated_normal(shape=shape, mean=0.0, stddev=0.1))\n",
    "    bias = tf.Variable(tf.zeros([conv_num_outputs]))\n",
    "    \n",
    "    conv2d = tf.nn.conv2d(x_tensor, weights, \n",
    "                          strides=[1, conv_strides[0], conv_strides[1], 1], padding='SAME')\n",
    "    layer1 = tf.nn.bias_add(conv2d, bias)\n",
    "    layer1 = tf.nn.relu(layer1)\n",
    "    \n",
    "    layer2 = tf.nn.max_pool(layer1, ksize=[1, pool_ksize[0], pool_ksize[1], 1], \n",
    "                            strides=[1, pool_strides[0],pool_strides[1], 1], padding='SAME')\n",
    "    return layer2 \n",
    "\n",
    "\n",
    "\"\"\"\n",
    "DON'T MODIFY ANYTHING IN THIS CELL THAT IS BELOW THIS LINE\n",
    "\"\"\"\n",
    "tests.test_con_pool(conv2d_maxpool)"
   ]
  },
  {
   "cell_type": "markdown",
   "metadata": {
    "deletable": true,
    "editable": true
   },
   "source": [
    "### Flatten Layer\n",
    "Implement the `flatten` function to change the dimension of `x_tensor` from a 4-D tensor to a 2-D tensor.  The output should be the shape (*Batch Size*, *Flattened Image Size*). Shortcut option: you can use classes from the [TensorFlow Layers](https://www.tensorflow.org/api_docs/python/tf/layers) or [TensorFlow Layers (contrib)](https://www.tensorflow.org/api_guides/python/contrib.layers) packages for this layer. For more of a challenge, only use other TensorFlow packages."
   ]
  },
  {
   "cell_type": "code",
   "execution_count": 14,
   "metadata": {
    "collapsed": false,
    "deletable": true,
    "editable": true
   },
   "outputs": [
    {
     "name": "stdout",
     "output_type": "stream",
     "text": [
      "Tests Passed\n"
     ]
    }
   ],
   "source": [
    "def flatten(x_tensor):\n",
    "    \"\"\"\n",
    "    Flatten x_tensor to (Batch Size, Flattened Image Size)\n",
    "    : x_tensor: A tensor of size (Batch Size, ...), where ... are the image dimensions.\n",
    "    : return: A tensor of size (Batch Size, Flattened Image Size).\n",
    "    \"\"\"\n",
    "    # TODO: Implement Function\n",
    "    return tf.contrib.layers.flatten(x_tensor)\n",
    "\n",
    "\n",
    "\"\"\"\n",
    "DON'T MODIFY ANYTHING IN THIS CELL THAT IS BELOW THIS LINE\n",
    "\"\"\"\n",
    "tests.test_flatten(flatten)"
   ]
  },
  {
   "cell_type": "markdown",
   "metadata": {
    "deletable": true,
    "editable": true
   },
   "source": [
    "### Fully-Connected Layer\n",
    "Implement the `fully_conn` function to apply a fully connected layer to `x_tensor` with the shape (*Batch Size*, *num_outputs*). Shortcut option: you can use classes from the [TensorFlow Layers](https://www.tensorflow.org/api_docs/python/tf/layers) or [TensorFlow Layers (contrib)](https://www.tensorflow.org/api_guides/python/contrib.layers) packages for this layer. For more of a challenge, only use other TensorFlow packages."
   ]
  },
  {
   "cell_type": "code",
   "execution_count": 15,
   "metadata": {
    "collapsed": false,
    "deletable": true,
    "editable": true
   },
   "outputs": [
    {
     "name": "stdout",
     "output_type": "stream",
     "text": [
      "Tests Passed\n"
     ]
    }
   ],
   "source": [
    "def fully_conn(x_tensor, num_outputs):\n",
    "    \"\"\"\n",
    "    Apply a fully connected layer to x_tensor using weight and bias\n",
    "    : x_tensor: A 2-D tensor where the first dimension is batch size.\n",
    "    : num_outputs: The number of output that the new tensor should be.\n",
    "    : return: A 2-D tensor where the second dimension is num_outputs.\n",
    "    \"\"\"\n",
    "    # TODO: Implement Function\n",
    "    y_shape = x_tensor.get_shape().as_list()[-1]\n",
    "    weights = tf.Variable(tf.truncated_normal(shape=[y_shape,num_outputs], mean=0.0, stddev=0.1))\n",
    "    bias = tf.Variable(tf.zeros([num_outputs]))\n",
    "    layer = tf.matmul(x_tensor, weights) + bias\n",
    "    layer = tf.nn.relu(layer)\n",
    "    return layer\n",
    "\n",
    "\n",
    "\"\"\"\n",
    "DON'T MODIFY ANYTHING IN THIS CELL THAT IS BELOW THIS LINE\n",
    "\"\"\"\n",
    "tests.test_fully_conn(fully_conn)"
   ]
  },
  {
   "cell_type": "markdown",
   "metadata": {
    "deletable": true,
    "editable": true
   },
   "source": [
    "### Output Layer\n",
    "Implement the `output` function to apply a fully connected layer to `x_tensor` with the shape (*Batch Size*, *num_outputs*). Shortcut option: you can use classes from the [TensorFlow Layers](https://www.tensorflow.org/api_docs/python/tf/layers) or [TensorFlow Layers (contrib)](https://www.tensorflow.org/api_guides/python/contrib.layers) packages for this layer. For more of a challenge, only use other TensorFlow packages.\n",
    "\n",
    "**Note:** Activation, softmax, or cross entropy should **not** be applied to this."
   ]
  },
  {
   "cell_type": "code",
   "execution_count": 16,
   "metadata": {
    "collapsed": false,
    "deletable": true,
    "editable": true
   },
   "outputs": [
    {
     "name": "stdout",
     "output_type": "stream",
     "text": [
      "Tests Passed\n"
     ]
    }
   ],
   "source": [
    "def output(x_tensor, num_outputs):\n",
    "    \"\"\"\n",
    "    Apply a output layer to x_tensor using weight and bias\n",
    "    : x_tensor: A 2-D tensor where the first dimension is batch size.\n",
    "    : num_outputs: The number of output that the new tensor should be.\n",
    "    : return: A 2-D tensor where the second dimension is num_outputs.\n",
    "    \"\"\"\n",
    "    # TODO: Implement Function\n",
    "    y_shape = x_tensor.get_shape().as_list()[-1]\n",
    "    weights = tf.Variable(tf.truncated_normal(shape=[y_shape,num_outputs], mean=0.0, stddev=0.1))\n",
    "    bias = tf.Variable(tf.zeros([num_outputs]))\n",
    "    layer = tf.matmul(x_tensor, weights) + bias\n",
    "    return layer\n",
    "\n",
    "\n",
    "\"\"\"\n",
    "DON'T MODIFY ANYTHING IN THIS CELL THAT IS BELOW THIS LINE\n",
    "\"\"\"\n",
    "tests.test_output(output)"
   ]
  },
  {
   "cell_type": "markdown",
   "metadata": {
    "deletable": true,
    "editable": true
   },
   "source": [
    "### Create Convolutional Model\n",
    "Implement the function `conv_net` to create a convolutional neural network model. The function takes in a batch of images, `x`, and outputs logits.  Use the layers you created above to create this model:\n",
    "\n",
    "* Apply 1, 2, or 3 Convolution and Max Pool layers\n",
    "* Apply a Flatten Layer\n",
    "* Apply 1, 2, or 3 Fully Connected Layers\n",
    "* Apply an Output Layer\n",
    "* Return the output\n",
    "* Apply [TensorFlow's Dropout](https://www.tensorflow.org/api_docs/python/tf/nn/dropout) to one or more layers in the model using `keep_prob`. "
   ]
  },
  {
   "cell_type": "code",
   "execution_count": 17,
   "metadata": {
    "collapsed": false,
    "deletable": true,
    "editable": true
   },
   "outputs": [
    {
     "name": "stdout",
     "output_type": "stream",
     "text": [
      "Neural Network Built!\n"
     ]
    }
   ],
   "source": [
    "def conv_net(x, keep_prob):\n",
    "    \"\"\"\n",
    "    Create a convolutional neural network model\n",
    "    : x: Placeholder tensor that holds image data.\n",
    "    : keep_prob: Placeholder tensor that hold dropout keep probability.\n",
    "    : return: Tensor that represents logits\n",
    "    \"\"\"\n",
    "    # TODO: Apply 1, 2, or 3 Convolution and Max Pool layers\n",
    "    #    Play around with different number of outputs, kernel size and stride\n",
    "    # Function Definition from Above:\n",
    "    x_tensor = x\n",
    "    conv_num_outputs = 16\n",
    "    conv_ksize = (4,4)\n",
    "    conv_strides = (1,1)\n",
    "    pool_ksize = (2,2)\n",
    "    pool_strides = (2,2)\n",
    "    conv1 = conv2d_maxpool(x_tensor, conv_num_outputs, conv_ksize, conv_strides, pool_ksize, pool_strides)\n",
    "    \n",
    "    conv_num_outputs = 32\n",
    "    conv2 = conv2d_maxpool(conv1, conv_num_outputs, conv_ksize, conv_strides, pool_ksize, pool_strides)\n",
    "    \n",
    "    conv_num_outputs = 64\n",
    "    conv3 = conv2d_maxpool(conv2, conv_num_outputs, conv_ksize, conv_strides, pool_ksize, pool_strides)\n",
    "    \n",
    "    x_tensor = conv3\n",
    "    # TODO: Apply a Flatten Layer\n",
    "    # Function Definition from Above:\n",
    "    x_tensor = flatten(x_tensor)\n",
    "\n",
    "    # TODO: Apply 1, 2, or 3 Fully Connected Layers\n",
    "    #    Play around with different number of outputs\n",
    "    # Function Definition from Above:\n",
    "    num_outputs = 10\n",
    "    x_tensor = fully_conn(x_tensor, num_outputs)\n",
    "    x_tensor = tf.nn.dropout(x_tensor, keep_prob)\n",
    "    \n",
    "    # TODO: Apply an Output Layer\n",
    "    #    Set this to the number of classes\n",
    "    # Function Definition from Above:\n",
    "    x_tensor = output(x_tensor, num_outputs)\n",
    "    \n",
    "    \n",
    "    # TODO: return output\n",
    "    return x_tensor\n",
    "\n",
    "\"\"\"\n",
    "DON'T MODIFY ANYTHING IN THIS CELL THAT IS BELOW THIS LINE\n",
    "\"\"\"\n",
    "\n",
    "##############################\n",
    "## Build the Neural Network ##\n",
    "##############################\n",
    "\n",
    "# Remove previous weights, bias, inputs, etc..\n",
    "tf.reset_default_graph()\n",
    "\n",
    "# Inputs\n",
    "x = neural_net_image_input((32, 32, 3))\n",
    "y = neural_net_label_input(10)\n",
    "keep_prob = neural_net_keep_prob_input()\n",
    "\n",
    "# Model\n",
    "logits = conv_net(x, keep_prob)\n",
    "\n",
    "# Name logits Tensor, so that is can be loaded from disk after training\n",
    "logits = tf.identity(logits, name='logits')\n",
    "\n",
    "# Loss and Optimizer\n",
    "cost = tf.reduce_mean(tf.nn.softmax_cross_entropy_with_logits(logits=logits, labels=y))\n",
    "optimizer = tf.train.AdamOptimizer().minimize(cost)\n",
    "\n",
    "# Accuracy\n",
    "correct_pred = tf.equal(tf.argmax(logits, 1), tf.argmax(y, 1))\n",
    "accuracy = tf.reduce_mean(tf.cast(correct_pred, tf.float32), name='accuracy')\n",
    "\n",
    "tests.test_conv_net(conv_net)"
   ]
  },
  {
   "cell_type": "markdown",
   "metadata": {
    "deletable": true,
    "editable": true
   },
   "source": [
    "## Train the Neural Network\n",
    "### Single Optimization\n",
    "Implement the function `train_neural_network` to do a single optimization.  The optimization should use `optimizer` to optimize in `session` with a `feed_dict` of the following:\n",
    "* `x` for image input\n",
    "* `y` for labels\n",
    "* `keep_prob` for keep probability for dropout\n",
    "\n",
    "This function will be called for each batch, so `tf.global_variables_initializer()` has already been called.\n",
    "\n",
    "Note: Nothing needs to be returned. This function is only optimizing the neural network."
   ]
  },
  {
   "cell_type": "code",
   "execution_count": 18,
   "metadata": {
    "collapsed": false,
    "deletable": true,
    "editable": true
   },
   "outputs": [
    {
     "name": "stdout",
     "output_type": "stream",
     "text": [
      "Tests Passed\n"
     ]
    }
   ],
   "source": [
    "def train_neural_network(session, optimizer, keep_probability, feature_batch, label_batch):\n",
    "    \"\"\"\n",
    "    Optimize the session on a batch of images and labels\n",
    "    : session: Current TensorFlow session\n",
    "    : optimizer: TensorFlow optimizer function\n",
    "    : keep_probability: keep probability\n",
    "    : feature_batch: Batch of Numpy image data\n",
    "    : label_batch: Batch of Numpy label data\n",
    "    \"\"\"\n",
    "    # TODO: Implement Function\n",
    "    session.run(optimizer,feed_dict={x:feature_batch, y:label_batch, keep_prob:keep_probability})\n",
    "\n",
    "\n",
    "\"\"\"\n",
    "DON'T MODIFY ANYTHING IN THIS CELL THAT IS BELOW THIS LINE\n",
    "\"\"\"\n",
    "tests.test_train_nn(train_neural_network)"
   ]
  },
  {
   "cell_type": "markdown",
   "metadata": {
    "deletable": true,
    "editable": true
   },
   "source": [
    "### Show Stats\n",
    "Implement the function `print_stats` to print loss and validation accuracy.  Use the global variables `valid_features` and `valid_labels` to calculate validation accuracy.  Use a keep probability of `1.0` to calculate the loss and validation accuracy."
   ]
  },
  {
   "cell_type": "code",
   "execution_count": 19,
   "metadata": {
    "collapsed": false,
    "deletable": true,
    "editable": true
   },
   "outputs": [],
   "source": [
    "def print_stats(session, feature_batch, label_batch, cost, accuracy):\n",
    "    \"\"\"\n",
    "    Print information about loss and validation accuracy\n",
    "    : session: Current TensorFlow session\n",
    "    : feature_batch: Batch of Numpy image data\n",
    "    : label_batch: Batch of Numpy label data\n",
    "    : cost: TensorFlow cost function\n",
    "    : accuracy: TensorFlow accuracy function\n",
    "    \"\"\"\n",
    "    # TODO: Implement Function\n",
    "    loss = session.run(cost, feed_dict={x: feature_batch, y: label_batch, keep_prob: 1.})\n",
    "    valid_acc = session.run(accuracy, feed_dict={x: valid_features, y: valid_labels, keep_prob: 1.})\n",
    "\n",
    "    print('Loss: {:>10.4f} Validation Accuracy: {:.6f}'.format(loss, valid_acc))\n",
    "    pass"
   ]
  },
  {
   "cell_type": "markdown",
   "metadata": {
    "deletable": true,
    "editable": true
   },
   "source": [
    "### Hyperparameters\n",
    "Tune the following parameters:\n",
    "* Set `epochs` to the number of iterations until the network stops learning or start overfitting\n",
    "* Set `batch_size` to the highest number that your machine has memory for.  Most people set them to common sizes of memory:\n",
    " * 64\n",
    " * 128\n",
    " * 256\n",
    " * ...\n",
    "* Set `keep_probability` to the probability of keeping a node using dropout"
   ]
  },
  {
   "cell_type": "code",
   "execution_count": 20,
   "metadata": {
    "collapsed": true,
    "deletable": true,
    "editable": true
   },
   "outputs": [],
   "source": [
    "# TODO: Tune Parameters\n",
    "epochs = 45\n",
    "batch_size = 128\n",
    "keep_probability = 0.75"
   ]
  },
  {
   "cell_type": "markdown",
   "metadata": {
    "deletable": true,
    "editable": true
   },
   "source": [
    "### Train on a Single CIFAR-10 Batch\n",
    "Instead of training the neural network on all the CIFAR-10 batches of data, let's use a single batch. This should save time while you iterate on the model to get a better accuracy.  Once the final validation accuracy is 50% or greater, run the model on all the data in the next section."
   ]
  },
  {
   "cell_type": "code",
   "execution_count": 21,
   "metadata": {
    "collapsed": false,
    "deletable": true,
    "editable": true
   },
   "outputs": [
    {
     "name": "stdout",
     "output_type": "stream",
     "text": [
      "Checking the Training on a Single Batch...\n",
      "Epoch  1, CIFAR-10 Batch 1:  Loss:     2.2074 Validation Accuracy: 0.250800\n",
      "Epoch  2, CIFAR-10 Batch 1:  Loss:     2.0714 Validation Accuracy: 0.265600\n",
      "Epoch  3, CIFAR-10 Batch 1:  Loss:     1.9575 Validation Accuracy: 0.284400\n",
      "Epoch  4, CIFAR-10 Batch 1:  Loss:     1.9211 Validation Accuracy: 0.352000\n",
      "Epoch  5, CIFAR-10 Batch 1:  Loss:     1.9209 Validation Accuracy: 0.353800\n",
      "Epoch  6, CIFAR-10 Batch 1:  Loss:     1.8469 Validation Accuracy: 0.380600\n",
      "Epoch  7, CIFAR-10 Batch 1:  Loss:     1.8021 Validation Accuracy: 0.388400\n",
      "Epoch  8, CIFAR-10 Batch 1:  Loss:     1.7404 Validation Accuracy: 0.404600\n",
      "Epoch  9, CIFAR-10 Batch 1:  Loss:     1.6474 Validation Accuracy: 0.408600\n",
      "Epoch 10, CIFAR-10 Batch 1:  Loss:     1.6259 Validation Accuracy: 0.423200\n",
      "Epoch 11, CIFAR-10 Batch 1:  Loss:     1.5256 Validation Accuracy: 0.444400\n",
      "Epoch 12, CIFAR-10 Batch 1:  Loss:     1.4535 Validation Accuracy: 0.446400\n",
      "Epoch 13, CIFAR-10 Batch 1:  Loss:     1.3663 Validation Accuracy: 0.474000\n",
      "Epoch 14, CIFAR-10 Batch 1:  Loss:     1.3367 Validation Accuracy: 0.474600\n",
      "Epoch 15, CIFAR-10 Batch 1:  Loss:     1.3189 Validation Accuracy: 0.485600\n",
      "Epoch 16, CIFAR-10 Batch 1:  Loss:     1.2306 Validation Accuracy: 0.488200\n",
      "Epoch 17, CIFAR-10 Batch 1:  Loss:     1.1760 Validation Accuracy: 0.490200\n",
      "Epoch 18, CIFAR-10 Batch 1:  Loss:     1.1292 Validation Accuracy: 0.495800\n",
      "Epoch 19, CIFAR-10 Batch 1:  Loss:     1.0799 Validation Accuracy: 0.500600\n",
      "Epoch 20, CIFAR-10 Batch 1:  Loss:     1.0394 Validation Accuracy: 0.499200\n",
      "Epoch 21, CIFAR-10 Batch 1:  Loss:     1.0160 Validation Accuracy: 0.508400\n",
      "Epoch 22, CIFAR-10 Batch 1:  Loss:     0.9566 Validation Accuracy: 0.506200\n",
      "Epoch 23, CIFAR-10 Batch 1:  Loss:     0.9718 Validation Accuracy: 0.514200\n",
      "Epoch 24, CIFAR-10 Batch 1:  Loss:     0.9614 Validation Accuracy: 0.496000\n",
      "Epoch 25, CIFAR-10 Batch 1:  Loss:     0.8937 Validation Accuracy: 0.517800\n",
      "Epoch 26, CIFAR-10 Batch 1:  Loss:     0.8994 Validation Accuracy: 0.518000\n",
      "Epoch 27, CIFAR-10 Batch 1:  Loss:     0.9049 Validation Accuracy: 0.501000\n",
      "Epoch 28, CIFAR-10 Batch 1:  Loss:     0.8791 Validation Accuracy: 0.497000\n",
      "Epoch 29, CIFAR-10 Batch 1:  Loss:     0.8575 Validation Accuracy: 0.487000\n",
      "Epoch 30, CIFAR-10 Batch 1:  Loss:     0.8274 Validation Accuracy: 0.494800\n",
      "Epoch 31, CIFAR-10 Batch 1:  Loss:     0.7843 Validation Accuracy: 0.515400\n",
      "Epoch 32, CIFAR-10 Batch 1:  Loss:     0.7678 Validation Accuracy: 0.528200\n",
      "Epoch 33, CIFAR-10 Batch 1:  Loss:     0.7350 Validation Accuracy: 0.526400\n",
      "Epoch 34, CIFAR-10 Batch 1:  Loss:     0.7223 Validation Accuracy: 0.523600\n",
      "Epoch 35, CIFAR-10 Batch 1:  Loss:     0.7258 Validation Accuracy: 0.522200\n",
      "Epoch 36, CIFAR-10 Batch 1:  Loss:     0.7055 Validation Accuracy: 0.520200\n",
      "Epoch 37, CIFAR-10 Batch 1:  Loss:     0.6933 Validation Accuracy: 0.503400\n",
      "Epoch 38, CIFAR-10 Batch 1:  Loss:     0.6614 Validation Accuracy: 0.519200\n",
      "Epoch 39, CIFAR-10 Batch 1:  Loss:     0.6884 Validation Accuracy: 0.509600\n",
      "Epoch 40, CIFAR-10 Batch 1:  Loss:     0.6789 Validation Accuracy: 0.517000\n",
      "Epoch 41, CIFAR-10 Batch 1:  Loss:     0.6851 Validation Accuracy: 0.517800\n",
      "Epoch 42, CIFAR-10 Batch 1:  Loss:     0.6668 Validation Accuracy: 0.515600\n",
      "Epoch 43, CIFAR-10 Batch 1:  Loss:     0.6326 Validation Accuracy: 0.512400\n",
      "Epoch 44, CIFAR-10 Batch 1:  Loss:     0.6466 Validation Accuracy: 0.516400\n",
      "Epoch 45, CIFAR-10 Batch 1:  Loss:     0.6328 Validation Accuracy: 0.511600\n"
     ]
    }
   ],
   "source": [
    "\"\"\"\n",
    "DON'T MODIFY ANYTHING IN THIS CELL\n",
    "\"\"\"\n",
    "print('Checking the Training on a Single Batch...')\n",
    "with tf.Session() as sess:\n",
    "    # Initializing the variables\n",
    "    sess.run(tf.global_variables_initializer())\n",
    "    \n",
    "    # Training cycle\n",
    "    for epoch in range(epochs):\n",
    "        batch_i = 1\n",
    "        for batch_features, batch_labels in helper.load_preprocess_training_batch(batch_i, batch_size):\n",
    "            train_neural_network(sess, optimizer, keep_probability, batch_features, batch_labels)\n",
    "        print('Epoch {:>2}, CIFAR-10 Batch {}:  '.format(epoch + 1, batch_i), end='')\n",
    "        print_stats(sess, batch_features, batch_labels, cost, accuracy)"
   ]
  },
  {
   "cell_type": "markdown",
   "metadata": {
    "deletable": true,
    "editable": true
   },
   "source": [
    "### Fully Train the Model\n",
    "Now that you got a good accuracy with a single CIFAR-10 batch, try it with all five batches."
   ]
  },
  {
   "cell_type": "code",
   "execution_count": 22,
   "metadata": {
    "collapsed": false,
    "deletable": true,
    "editable": true
   },
   "outputs": [
    {
     "name": "stdout",
     "output_type": "stream",
     "text": [
      "Training...\n",
      "Epoch  1, CIFAR-10 Batch 1:  Loss:     2.1600 Validation Accuracy: 0.191400\n",
      "Epoch  1, CIFAR-10 Batch 2:  Loss:     1.9783 Validation Accuracy: 0.268200\n",
      "Epoch  1, CIFAR-10 Batch 3:  Loss:     1.6340 Validation Accuracy: 0.344600\n",
      "Epoch  1, CIFAR-10 Batch 4:  Loss:     1.8040 Validation Accuracy: 0.333600\n",
      "Epoch  1, CIFAR-10 Batch 5:  Loss:     1.7089 Validation Accuracy: 0.354200\n",
      "Epoch  2, CIFAR-10 Batch 1:  Loss:     1.8468 Validation Accuracy: 0.383000\n",
      "Epoch  2, CIFAR-10 Batch 2:  Loss:     1.7948 Validation Accuracy: 0.362600\n",
      "Epoch  2, CIFAR-10 Batch 3:  Loss:     1.4120 Validation Accuracy: 0.403200\n",
      "Epoch  2, CIFAR-10 Batch 4:  Loss:     1.6694 Validation Accuracy: 0.394400\n",
      "Epoch  2, CIFAR-10 Batch 5:  Loss:     1.5442 Validation Accuracy: 0.437000\n",
      "Epoch  3, CIFAR-10 Batch 1:  Loss:     1.6098 Validation Accuracy: 0.449400\n",
      "Epoch  3, CIFAR-10 Batch 2:  Loss:     1.6454 Validation Accuracy: 0.445800\n",
      "Epoch  3, CIFAR-10 Batch 3:  Loss:     1.2670 Validation Accuracy: 0.461000\n",
      "Epoch  3, CIFAR-10 Batch 4:  Loss:     1.5306 Validation Accuracy: 0.459400\n",
      "Epoch  3, CIFAR-10 Batch 5:  Loss:     1.4790 Validation Accuracy: 0.479800\n",
      "Epoch  4, CIFAR-10 Batch 1:  Loss:     1.5585 Validation Accuracy: 0.470800\n",
      "Epoch  4, CIFAR-10 Batch 2:  Loss:     1.5392 Validation Accuracy: 0.480600\n",
      "Epoch  4, CIFAR-10 Batch 3:  Loss:     1.2246 Validation Accuracy: 0.483600\n",
      "Epoch  4, CIFAR-10 Batch 4:  Loss:     1.5196 Validation Accuracy: 0.490800\n",
      "Epoch  4, CIFAR-10 Batch 5:  Loss:     1.3800 Validation Accuracy: 0.481800\n",
      "Epoch  5, CIFAR-10 Batch 1:  Loss:     1.4477 Validation Accuracy: 0.486000\n",
      "Epoch  5, CIFAR-10 Batch 2:  Loss:     1.4534 Validation Accuracy: 0.514800\n",
      "Epoch  5, CIFAR-10 Batch 3:  Loss:     1.1514 Validation Accuracy: 0.491200\n",
      "Epoch  5, CIFAR-10 Batch 4:  Loss:     1.4086 Validation Accuracy: 0.512400\n",
      "Epoch  5, CIFAR-10 Batch 5:  Loss:     1.3192 Validation Accuracy: 0.511400\n",
      "Epoch  6, CIFAR-10 Batch 1:  Loss:     1.3306 Validation Accuracy: 0.503400\n",
      "Epoch  6, CIFAR-10 Batch 2:  Loss:     1.3842 Validation Accuracy: 0.502000\n",
      "Epoch  6, CIFAR-10 Batch 3:  Loss:     1.0812 Validation Accuracy: 0.502600\n",
      "Epoch  6, CIFAR-10 Batch 4:  Loss:     1.3740 Validation Accuracy: 0.516200\n",
      "Epoch  6, CIFAR-10 Batch 5:  Loss:     1.2280 Validation Accuracy: 0.518400\n",
      "Epoch  7, CIFAR-10 Batch 1:  Loss:     1.2897 Validation Accuracy: 0.531000\n",
      "Epoch  7, CIFAR-10 Batch 2:  Loss:     1.3271 Validation Accuracy: 0.537400\n",
      "Epoch  7, CIFAR-10 Batch 3:  Loss:     1.0402 Validation Accuracy: 0.530800\n",
      "Epoch  7, CIFAR-10 Batch 4:  Loss:     1.3367 Validation Accuracy: 0.544400\n",
      "Epoch  7, CIFAR-10 Batch 5:  Loss:     1.1785 Validation Accuracy: 0.546400\n",
      "Epoch  8, CIFAR-10 Batch 1:  Loss:     1.2125 Validation Accuracy: 0.540400\n",
      "Epoch  8, CIFAR-10 Batch 2:  Loss:     1.2742 Validation Accuracy: 0.550600\n",
      "Epoch  8, CIFAR-10 Batch 3:  Loss:     0.9996 Validation Accuracy: 0.529000\n",
      "Epoch  8, CIFAR-10 Batch 4:  Loss:     1.2462 Validation Accuracy: 0.551400\n",
      "Epoch  8, CIFAR-10 Batch 5:  Loss:     1.1104 Validation Accuracy: 0.555200\n",
      "Epoch  9, CIFAR-10 Batch 1:  Loss:     1.2054 Validation Accuracy: 0.529800\n",
      "Epoch  9, CIFAR-10 Batch 2:  Loss:     1.1944 Validation Accuracy: 0.537400\n",
      "Epoch  9, CIFAR-10 Batch 3:  Loss:     0.9606 Validation Accuracy: 0.539600\n",
      "Epoch  9, CIFAR-10 Batch 4:  Loss:     1.2042 Validation Accuracy: 0.564000\n",
      "Epoch  9, CIFAR-10 Batch 5:  Loss:     1.0297 Validation Accuracy: 0.569000\n",
      "Epoch 10, CIFAR-10 Batch 1:  Loss:     1.1316 Validation Accuracy: 0.551200\n",
      "Epoch 10, CIFAR-10 Batch 2:  Loss:     1.1083 Validation Accuracy: 0.563800\n",
      "Epoch 10, CIFAR-10 Batch 3:  Loss:     0.8967 Validation Accuracy: 0.541600\n",
      "Epoch 10, CIFAR-10 Batch 4:  Loss:     1.1308 Validation Accuracy: 0.576000\n",
      "Epoch 10, CIFAR-10 Batch 5:  Loss:     1.0441 Validation Accuracy: 0.551200\n",
      "Epoch 11, CIFAR-10 Batch 1:  Loss:     1.1524 Validation Accuracy: 0.569800\n",
      "Epoch 11, CIFAR-10 Batch 2:  Loss:     1.0442 Validation Accuracy: 0.574200\n",
      "Epoch 11, CIFAR-10 Batch 3:  Loss:     0.9220 Validation Accuracy: 0.551200\n",
      "Epoch 11, CIFAR-10 Batch 4:  Loss:     1.1145 Validation Accuracy: 0.582400\n",
      "Epoch 11, CIFAR-10 Batch 5:  Loss:     0.9726 Validation Accuracy: 0.581000\n",
      "Epoch 12, CIFAR-10 Batch 1:  Loss:     1.0543 Validation Accuracy: 0.564600\n",
      "Epoch 12, CIFAR-10 Batch 2:  Loss:     1.0442 Validation Accuracy: 0.570600\n",
      "Epoch 12, CIFAR-10 Batch 3:  Loss:     0.8938 Validation Accuracy: 0.564200\n",
      "Epoch 12, CIFAR-10 Batch 4:  Loss:     1.0647 Validation Accuracy: 0.595400\n",
      "Epoch 12, CIFAR-10 Batch 5:  Loss:     0.9686 Validation Accuracy: 0.563200\n",
      "Epoch 13, CIFAR-10 Batch 1:  Loss:     1.0504 Validation Accuracy: 0.582400\n",
      "Epoch 13, CIFAR-10 Batch 2:  Loss:     0.9641 Validation Accuracy: 0.590400\n",
      "Epoch 13, CIFAR-10 Batch 3:  Loss:     0.8635 Validation Accuracy: 0.560200\n",
      "Epoch 13, CIFAR-10 Batch 4:  Loss:     0.9956 Validation Accuracy: 0.597800\n",
      "Epoch 13, CIFAR-10 Batch 5:  Loss:     0.8907 Validation Accuracy: 0.584200\n",
      "Epoch 14, CIFAR-10 Batch 1:  Loss:     0.9559 Validation Accuracy: 0.579800\n",
      "Epoch 14, CIFAR-10 Batch 2:  Loss:     0.9060 Validation Accuracy: 0.588600\n",
      "Epoch 14, CIFAR-10 Batch 3:  Loss:     0.8114 Validation Accuracy: 0.579200\n",
      "Epoch 14, CIFAR-10 Batch 4:  Loss:     0.9687 Validation Accuracy: 0.590600\n",
      "Epoch 14, CIFAR-10 Batch 5:  Loss:     0.8623 Validation Accuracy: 0.588000\n",
      "Epoch 15, CIFAR-10 Batch 1:  Loss:     0.8925 Validation Accuracy: 0.570400\n",
      "Epoch 15, CIFAR-10 Batch 2:  Loss:     0.8802 Validation Accuracy: 0.605400\n",
      "Epoch 15, CIFAR-10 Batch 3:  Loss:     0.7845 Validation Accuracy: 0.586200\n",
      "Epoch 15, CIFAR-10 Batch 4:  Loss:     0.9071 Validation Accuracy: 0.603600\n",
      "Epoch 15, CIFAR-10 Batch 5:  Loss:     0.8466 Validation Accuracy: 0.578600\n",
      "Epoch 16, CIFAR-10 Batch 1:  Loss:     0.8352 Validation Accuracy: 0.598600\n",
      "Epoch 16, CIFAR-10 Batch 2:  Loss:     0.8626 Validation Accuracy: 0.608400\n",
      "Epoch 16, CIFAR-10 Batch 3:  Loss:     0.8082 Validation Accuracy: 0.592400\n",
      "Epoch 16, CIFAR-10 Batch 4:  Loss:     0.8414 Validation Accuracy: 0.602600\n",
      "Epoch 16, CIFAR-10 Batch 5:  Loss:     0.8352 Validation Accuracy: 0.571400\n",
      "Epoch 17, CIFAR-10 Batch 1:  Loss:     0.8026 Validation Accuracy: 0.596600\n",
      "Epoch 17, CIFAR-10 Batch 2:  Loss:     0.7872 Validation Accuracy: 0.595800\n",
      "Epoch 17, CIFAR-10 Batch 3:  Loss:     0.7728 Validation Accuracy: 0.593000\n",
      "Epoch 17, CIFAR-10 Batch 4:  Loss:     0.7733 Validation Accuracy: 0.605200\n",
      "Epoch 17, CIFAR-10 Batch 5:  Loss:     0.7965 Validation Accuracy: 0.593800\n",
      "Epoch 18, CIFAR-10 Batch 1:  Loss:     0.7954 Validation Accuracy: 0.607000\n",
      "Epoch 18, CIFAR-10 Batch 2:  Loss:     0.7891 Validation Accuracy: 0.591000\n",
      "Epoch 18, CIFAR-10 Batch 3:  Loss:     0.7661 Validation Accuracy: 0.593800\n",
      "Epoch 18, CIFAR-10 Batch 4:  Loss:     0.7465 Validation Accuracy: 0.612600\n",
      "Epoch 18, CIFAR-10 Batch 5:  Loss:     0.7708 Validation Accuracy: 0.609000\n",
      "Epoch 19, CIFAR-10 Batch 1:  Loss:     0.8126 Validation Accuracy: 0.602600\n",
      "Epoch 19, CIFAR-10 Batch 2:  Loss:     0.7222 Validation Accuracy: 0.605200\n",
      "Epoch 19, CIFAR-10 Batch 3:  Loss:     0.7353 Validation Accuracy: 0.591200\n",
      "Epoch 19, CIFAR-10 Batch 4:  Loss:     0.7093 Validation Accuracy: 0.618800\n",
      "Epoch 19, CIFAR-10 Batch 5:  Loss:     0.7346 Validation Accuracy: 0.607200\n",
      "Epoch 20, CIFAR-10 Batch 1:  Loss:     0.7376 Validation Accuracy: 0.598600\n",
      "Epoch 20, CIFAR-10 Batch 2:  Loss:     0.7713 Validation Accuracy: 0.597800\n",
      "Epoch 20, CIFAR-10 Batch 3:  Loss:     0.7361 Validation Accuracy: 0.596400\n",
      "Epoch 20, CIFAR-10 Batch 4:  Loss:     0.7347 Validation Accuracy: 0.617000\n",
      "Epoch 20, CIFAR-10 Batch 5:  Loss:     0.6858 Validation Accuracy: 0.601000\n",
      "Epoch 21, CIFAR-10 Batch 1:  Loss:     0.6999 Validation Accuracy: 0.608200\n",
      "Epoch 21, CIFAR-10 Batch 2:  Loss:     0.7440 Validation Accuracy: 0.604000\n",
      "Epoch 21, CIFAR-10 Batch 3:  Loss:     0.7165 Validation Accuracy: 0.611000\n",
      "Epoch 21, CIFAR-10 Batch 4:  Loss:     0.6955 Validation Accuracy: 0.611800\n",
      "Epoch 21, CIFAR-10 Batch 5:  Loss:     0.6723 Validation Accuracy: 0.621600\n",
      "Epoch 22, CIFAR-10 Batch 1:  Loss:     0.7379 Validation Accuracy: 0.598200\n",
      "Epoch 22, CIFAR-10 Batch 2:  Loss:     0.6978 Validation Accuracy: 0.615200\n",
      "Epoch 22, CIFAR-10 Batch 3:  Loss:     0.7052 Validation Accuracy: 0.608200\n",
      "Epoch 22, CIFAR-10 Batch 4:  Loss:     0.6649 Validation Accuracy: 0.613400\n",
      "Epoch 22, CIFAR-10 Batch 5:  Loss:     0.6336 Validation Accuracy: 0.615400\n",
      "Epoch 23, CIFAR-10 Batch 1:  Loss:     0.6836 Validation Accuracy: 0.621400\n",
      "Epoch 23, CIFAR-10 Batch 2:  Loss:     0.6468 Validation Accuracy: 0.618200\n",
      "Epoch 23, CIFAR-10 Batch 3:  Loss:     0.6535 Validation Accuracy: 0.605800\n",
      "Epoch 23, CIFAR-10 Batch 4:  Loss:     0.6745 Validation Accuracy: 0.619600\n",
      "Epoch 23, CIFAR-10 Batch 5:  Loss:     0.6056 Validation Accuracy: 0.614600\n",
      "Epoch 24, CIFAR-10 Batch 1:  Loss:     0.6827 Validation Accuracy: 0.614800\n",
      "Epoch 24, CIFAR-10 Batch 2:  Loss:     0.6245 Validation Accuracy: 0.605600\n",
      "Epoch 24, CIFAR-10 Batch 3:  Loss:     0.6671 Validation Accuracy: 0.616800\n",
      "Epoch 24, CIFAR-10 Batch 4:  Loss:     0.6405 Validation Accuracy: 0.614800\n",
      "Epoch 24, CIFAR-10 Batch 5:  Loss:     0.5926 Validation Accuracy: 0.623600\n",
      "Epoch 25, CIFAR-10 Batch 1:  Loss:     0.6827 Validation Accuracy: 0.612400\n",
      "Epoch 25, CIFAR-10 Batch 2:  Loss:     0.6032 Validation Accuracy: 0.617200\n",
      "Epoch 25, CIFAR-10 Batch 3:  Loss:     0.6384 Validation Accuracy: 0.611800\n",
      "Epoch 25, CIFAR-10 Batch 4:  Loss:     0.6312 Validation Accuracy: 0.627600\n",
      "Epoch 25, CIFAR-10 Batch 5:  Loss:     0.5993 Validation Accuracy: 0.616400\n",
      "Epoch 26, CIFAR-10 Batch 1:  Loss:     0.6567 Validation Accuracy: 0.617000\n",
      "Epoch 26, CIFAR-10 Batch 2:  Loss:     0.5696 Validation Accuracy: 0.621200\n",
      "Epoch 26, CIFAR-10 Batch 3:  Loss:     0.6282 Validation Accuracy: 0.618200\n",
      "Epoch 26, CIFAR-10 Batch 4:  Loss:     0.5753 Validation Accuracy: 0.627600\n",
      "Epoch 26, CIFAR-10 Batch 5:  Loss:     0.5163 Validation Accuracy: 0.617000\n",
      "Epoch 27, CIFAR-10 Batch 1:  Loss:     0.6228 Validation Accuracy: 0.624800\n",
      "Epoch 27, CIFAR-10 Batch 2:  Loss:     0.5244 Validation Accuracy: 0.632600\n",
      "Epoch 27, CIFAR-10 Batch 3:  Loss:     0.5842 Validation Accuracy: 0.607800\n",
      "Epoch 27, CIFAR-10 Batch 4:  Loss:     0.5933 Validation Accuracy: 0.621400\n",
      "Epoch 27, CIFAR-10 Batch 5:  Loss:     0.5056 Validation Accuracy: 0.624600\n",
      "Epoch 28, CIFAR-10 Batch 1:  Loss:     0.5747 Validation Accuracy: 0.629400\n",
      "Epoch 28, CIFAR-10 Batch 2:  Loss:     0.5497 Validation Accuracy: 0.614000\n",
      "Epoch 28, CIFAR-10 Batch 3:  Loss:     0.5739 Validation Accuracy: 0.607400\n",
      "Epoch 28, CIFAR-10 Batch 4:  Loss:     0.5778 Validation Accuracy: 0.629600\n",
      "Epoch 28, CIFAR-10 Batch 5:  Loss:     0.5114 Validation Accuracy: 0.619600\n",
      "Epoch 29, CIFAR-10 Batch 1:  Loss:     0.5618 Validation Accuracy: 0.631000\n",
      "Epoch 29, CIFAR-10 Batch 2:  Loss:     0.5839 Validation Accuracy: 0.628800\n",
      "Epoch 29, CIFAR-10 Batch 3:  Loss:     0.5555 Validation Accuracy: 0.608200\n",
      "Epoch 29, CIFAR-10 Batch 4:  Loss:     0.5343 Validation Accuracy: 0.626800\n",
      "Epoch 29, CIFAR-10 Batch 5:  Loss:     0.5097 Validation Accuracy: 0.617600\n",
      "Epoch 30, CIFAR-10 Batch 1:  Loss:     0.5873 Validation Accuracy: 0.624400\n",
      "Epoch 30, CIFAR-10 Batch 2:  Loss:     0.5989 Validation Accuracy: 0.619800\n",
      "Epoch 30, CIFAR-10 Batch 3:  Loss:     0.5905 Validation Accuracy: 0.614600\n",
      "Epoch 30, CIFAR-10 Batch 4:  Loss:     0.5071 Validation Accuracy: 0.632800\n",
      "Epoch 30, CIFAR-10 Batch 5:  Loss:     0.5201 Validation Accuracy: 0.621600\n",
      "Epoch 31, CIFAR-10 Batch 1:  Loss:     0.5536 Validation Accuracy: 0.630800\n",
      "Epoch 31, CIFAR-10 Batch 2:  Loss:     0.5271 Validation Accuracy: 0.630200\n",
      "Epoch 31, CIFAR-10 Batch 3:  Loss:     0.5544 Validation Accuracy: 0.610400\n",
      "Epoch 31, CIFAR-10 Batch 4:  Loss:     0.5110 Validation Accuracy: 0.629400\n",
      "Epoch 31, CIFAR-10 Batch 5:  Loss:     0.4652 Validation Accuracy: 0.620800\n",
      "Epoch 32, CIFAR-10 Batch 1:  Loss:     0.5502 Validation Accuracy: 0.625000\n",
      "Epoch 32, CIFAR-10 Batch 2:  Loss:     0.5491 Validation Accuracy: 0.622800\n",
      "Epoch 32, CIFAR-10 Batch 3:  Loss:     0.5352 Validation Accuracy: 0.616600\n",
      "Epoch 32, CIFAR-10 Batch 4:  Loss:     0.5021 Validation Accuracy: 0.631000\n",
      "Epoch 32, CIFAR-10 Batch 5:  Loss:     0.4771 Validation Accuracy: 0.618800\n",
      "Epoch 33, CIFAR-10 Batch 1:  Loss:     0.5559 Validation Accuracy: 0.626600\n",
      "Epoch 33, CIFAR-10 Batch 2:  Loss:     0.5000 Validation Accuracy: 0.629800\n",
      "Epoch 33, CIFAR-10 Batch 3:  Loss:     0.5102 Validation Accuracy: 0.618200\n",
      "Epoch 33, CIFAR-10 Batch 4:  Loss:     0.5017 Validation Accuracy: 0.634200\n",
      "Epoch 33, CIFAR-10 Batch 5:  Loss:     0.4503 Validation Accuracy: 0.627600\n",
      "Epoch 34, CIFAR-10 Batch 1:  Loss:     0.5695 Validation Accuracy: 0.621000\n",
      "Epoch 34, CIFAR-10 Batch 2:  Loss:     0.5349 Validation Accuracy: 0.621600\n",
      "Epoch 34, CIFAR-10 Batch 3:  Loss:     0.5254 Validation Accuracy: 0.619600\n",
      "Epoch 34, CIFAR-10 Batch 4:  Loss:     0.4682 Validation Accuracy: 0.643200\n",
      "Epoch 34, CIFAR-10 Batch 5:  Loss:     0.4535 Validation Accuracy: 0.627000\n",
      "Epoch 35, CIFAR-10 Batch 1:  Loss:     0.5083 Validation Accuracy: 0.629600\n",
      "Epoch 35, CIFAR-10 Batch 2:  Loss:     0.5061 Validation Accuracy: 0.628600\n",
      "Epoch 35, CIFAR-10 Batch 3:  Loss:     0.4839 Validation Accuracy: 0.604800\n",
      "Epoch 35, CIFAR-10 Batch 4:  Loss:     0.4824 Validation Accuracy: 0.631800\n",
      "Epoch 35, CIFAR-10 Batch 5:  Loss:     0.4358 Validation Accuracy: 0.621800\n",
      "Epoch 36, CIFAR-10 Batch 1:  Loss:     0.5077 Validation Accuracy: 0.629600\n",
      "Epoch 36, CIFAR-10 Batch 2:  Loss:     0.4905 Validation Accuracy: 0.619000\n",
      "Epoch 36, CIFAR-10 Batch 3:  Loss:     0.5128 Validation Accuracy: 0.604800\n",
      "Epoch 36, CIFAR-10 Batch 4:  Loss:     0.4968 Validation Accuracy: 0.633400\n",
      "Epoch 36, CIFAR-10 Batch 5:  Loss:     0.4159 Validation Accuracy: 0.620200\n",
      "Epoch 37, CIFAR-10 Batch 1:  Loss:     0.5474 Validation Accuracy: 0.619800\n",
      "Epoch 37, CIFAR-10 Batch 2:  Loss:     0.4686 Validation Accuracy: 0.634800\n",
      "Epoch 37, CIFAR-10 Batch 3:  Loss:     0.5051 Validation Accuracy: 0.622200\n",
      "Epoch 37, CIFAR-10 Batch 4:  Loss:     0.4942 Validation Accuracy: 0.637800\n",
      "Epoch 37, CIFAR-10 Batch 5:  Loss:     0.3718 Validation Accuracy: 0.626800\n",
      "Epoch 38, CIFAR-10 Batch 1:  Loss:     0.5115 Validation Accuracy: 0.628000\n",
      "Epoch 38, CIFAR-10 Batch 2:  Loss:     0.4567 Validation Accuracy: 0.618800\n",
      "Epoch 38, CIFAR-10 Batch 3:  Loss:     0.4945 Validation Accuracy: 0.617800\n",
      "Epoch 38, CIFAR-10 Batch 4:  Loss:     0.4969 Validation Accuracy: 0.631600\n",
      "Epoch 38, CIFAR-10 Batch 5:  Loss:     0.4034 Validation Accuracy: 0.619800\n",
      "Epoch 39, CIFAR-10 Batch 1:  Loss:     0.5193 Validation Accuracy: 0.622200\n",
      "Epoch 39, CIFAR-10 Batch 2:  Loss:     0.4450 Validation Accuracy: 0.611400\n",
      "Epoch 39, CIFAR-10 Batch 3:  Loss:     0.4924 Validation Accuracy: 0.616600\n",
      "Epoch 39, CIFAR-10 Batch 4:  Loss:     0.4751 Validation Accuracy: 0.633800\n",
      "Epoch 39, CIFAR-10 Batch 5:  Loss:     0.3666 Validation Accuracy: 0.622400\n",
      "Epoch 40, CIFAR-10 Batch 1:  Loss:     0.4678 Validation Accuracy: 0.624600\n",
      "Epoch 40, CIFAR-10 Batch 2:  Loss:     0.4376 Validation Accuracy: 0.613800\n",
      "Epoch 40, CIFAR-10 Batch 3:  Loss:     0.5060 Validation Accuracy: 0.595200\n",
      "Epoch 40, CIFAR-10 Batch 4:  Loss:     0.5062 Validation Accuracy: 0.627000\n",
      "Epoch 40, CIFAR-10 Batch 5:  Loss:     0.3699 Validation Accuracy: 0.614800\n",
      "Epoch 41, CIFAR-10 Batch 1:  Loss:     0.4938 Validation Accuracy: 0.624800\n",
      "Epoch 41, CIFAR-10 Batch 2:  Loss:     0.4267 Validation Accuracy: 0.607800\n",
      "Epoch 41, CIFAR-10 Batch 3:  Loss:     0.4696 Validation Accuracy: 0.623600\n",
      "Epoch 41, CIFAR-10 Batch 4:  Loss:     0.4989 Validation Accuracy: 0.620600\n",
      "Epoch 41, CIFAR-10 Batch 5:  Loss:     0.3705 Validation Accuracy: 0.603800\n",
      "Epoch 42, CIFAR-10 Batch 1:  Loss:     0.5028 Validation Accuracy: 0.616800\n",
      "Epoch 42, CIFAR-10 Batch 2:  Loss:     0.4095 Validation Accuracy: 0.629800\n",
      "Epoch 42, CIFAR-10 Batch 3:  Loss:     0.4465 Validation Accuracy: 0.620200\n",
      "Epoch 42, CIFAR-10 Batch 4:  Loss:     0.4555 Validation Accuracy: 0.637000\n",
      "Epoch 42, CIFAR-10 Batch 5:  Loss:     0.3443 Validation Accuracy: 0.617400\n",
      "Epoch 43, CIFAR-10 Batch 1:  Loss:     0.5005 Validation Accuracy: 0.604600\n",
      "Epoch 43, CIFAR-10 Batch 2:  Loss:     0.4320 Validation Accuracy: 0.616800\n",
      "Epoch 43, CIFAR-10 Batch 3:  Loss:     0.4422 Validation Accuracy: 0.604200\n",
      "Epoch 43, CIFAR-10 Batch 4:  Loss:     0.4646 Validation Accuracy: 0.632400\n",
      "Epoch 43, CIFAR-10 Batch 5:  Loss:     0.4044 Validation Accuracy: 0.622000\n",
      "Epoch 44, CIFAR-10 Batch 1:  Loss:     0.5001 Validation Accuracy: 0.633400\n",
      "Epoch 44, CIFAR-10 Batch 2:  Loss:     0.4693 Validation Accuracy: 0.596800\n",
      "Epoch 44, CIFAR-10 Batch 3:  Loss:     0.4506 Validation Accuracy: 0.622000\n",
      "Epoch 44, CIFAR-10 Batch 4:  Loss:     0.5735 Validation Accuracy: 0.621600\n",
      "Epoch 44, CIFAR-10 Batch 5:  Loss:     0.3632 Validation Accuracy: 0.608000\n",
      "Epoch 45, CIFAR-10 Batch 1:  Loss:     0.4734 Validation Accuracy: 0.628200\n",
      "Epoch 45, CIFAR-10 Batch 2:  Loss:     0.4292 Validation Accuracy: 0.605200\n",
      "Epoch 45, CIFAR-10 Batch 3:  Loss:     0.4900 Validation Accuracy: 0.596600\n",
      "Epoch 45, CIFAR-10 Batch 4:  Loss:     0.4568 Validation Accuracy: 0.639800\n",
      "Epoch 45, CIFAR-10 Batch 5:  Loss:     0.4049 Validation Accuracy: 0.609400\n"
     ]
    }
   ],
   "source": [
    "\"\"\"\n",
    "DON'T MODIFY ANYTHING IN THIS CELL\n",
    "\"\"\"\n",
    "save_model_path = './image_classification'\n",
    "\n",
    "print('Training...')\n",
    "with tf.Session() as sess:\n",
    "    # Initializing the variables\n",
    "    sess.run(tf.global_variables_initializer())\n",
    "    \n",
    "    # Training cycle\n",
    "    for epoch in range(epochs):\n",
    "        # Loop over all batches\n",
    "        n_batches = 5\n",
    "        for batch_i in range(1, n_batches + 1):\n",
    "            for batch_features, batch_labels in helper.load_preprocess_training_batch(batch_i, batch_size):\n",
    "                train_neural_network(sess, optimizer, keep_probability, batch_features, batch_labels)\n",
    "            print('Epoch {:>2}, CIFAR-10 Batch {}:  '.format(epoch + 1, batch_i), end='')\n",
    "            print_stats(sess, batch_features, batch_labels, cost, accuracy)\n",
    "            \n",
    "    # Save Model\n",
    "    saver = tf.train.Saver()\n",
    "    save_path = saver.save(sess, save_model_path)"
   ]
  },
  {
   "cell_type": "markdown",
   "metadata": {
    "deletable": true,
    "editable": true
   },
   "source": [
    "# Checkpoint\n",
    "The model has been saved to disk.\n",
    "## Test Model\n",
    "Test your model against the test dataset.  This will be your final accuracy. You should have an accuracy greater than 50%. If you don't, keep tweaking the model architecture and parameters."
   ]
  },
  {
   "cell_type": "code",
   "execution_count": 24,
   "metadata": {
    "collapsed": false,
    "deletable": true,
    "editable": true
   },
   "outputs": [
    {
     "name": "stdout",
     "output_type": "stream",
     "text": [
      "Testing Accuracy: 0.5963212025316456\n",
      "\n"
     ]
    },
    {
     "data": {
      "image/png": "[encoded data removed]",
      "text/plain": [
       "<matplotlib.figure.Figure at 0x7fb887c92da0>"
      ]
     },
     "metadata": {
      "image/png": {
       "height": 319,
       "width": 355
      }
     },
     "output_type": "display_data"
    }
   ],
   "source": [
    "\"\"\"\n",
    "DON'T MODIFY ANYTHING IN THIS CELL\n",
    "\"\"\"\n",
    "%matplotlib inline\n",
    "%config InlineBackend.figure_format = 'retina'\n",
    "\n",
    "import tensorflow as tf\n",
    "import pickle\n",
    "import helper\n",
    "import random\n",
    "\n",
    "# Set batch size if not already set\n",
    "try:\n",
    "    if batch_size:\n",
    "        pass\n",
    "except NameError:\n",
    "    batch_size = 64\n",
    "\n",
    "save_model_path = './image_classification'\n",
    "n_samples = 4\n",
    "top_n_predictions = 3\n",
    "\n",
    "def test_model():\n",
    "    \"\"\"\n",
    "    Test the saved model against the test dataset\n",
    "    \"\"\"\n",
    "\n",
    "    test_features, test_labels = pickle.load(open('preprocess_training.p', mode='rb'))\n",
    "    loaded_graph = tf.Graph()\n",
    "\n",
    "    with tf.Session(graph=loaded_graph) as sess:\n",
    "        # Load model\n",
    "        loader = tf.train.import_meta_graph(save_model_path + '.meta')\n",
    "        loader.restore(sess, save_model_path)\n",
    "\n",
    "        # Get Tensors from loaded model\n",
    "        loaded_x = loaded_graph.get_tensor_by_name('x:0')\n",
    "        loaded_y = loaded_graph.get_tensor_by_name('y:0')\n",
    "        loaded_keep_prob = loaded_graph.get_tensor_by_name('keep_prob:0')\n",
    "        loaded_logits = loaded_graph.get_tensor_by_name('logits:0')\n",
    "        loaded_acc = loaded_graph.get_tensor_by_name('accuracy:0')\n",
    "        \n",
    "        # Get accuracy in batches for memory limitations\n",
    "        test_batch_acc_total = 0\n",
    "        test_batch_count = 0\n",
    "        \n",
    "        for train_feature_batch, train_label_batch in helper.batch_features_labels(test_features, test_labels, batch_size):\n",
    "            test_batch_acc_total += sess.run(\n",
    "                loaded_acc,\n",
    "                feed_dict={loaded_x: train_feature_batch, loaded_y: train_label_batch, loaded_keep_prob: 1.0})\n",
    "            test_batch_count += 1\n",
    "\n",
    "        print('Testing Accuracy: {}\\n'.format(test_batch_acc_total/test_batch_count))\n",
    "\n",
    "        # Print Random Samples\n",
    "        random_test_features, random_test_labels = tuple(zip(*random.sample(list(zip(test_features, test_labels)), n_samples)))\n",
    "        random_test_predictions = sess.run(\n",
    "            tf.nn.top_k(tf.nn.softmax(loaded_logits), top_n_predictions),\n",
    "            feed_dict={loaded_x: random_test_features, loaded_y: random_test_labels, loaded_keep_prob: 1.0})\n",
    "        helper.display_image_predictions(random_test_features, random_test_labels, random_test_predictions)\n",
    "\n",
    "\n",
    "test_model()"
   ]
  },
  {
   "cell_type": "markdown",
   "metadata": {
    "deletable": true,
    "editable": true
   },
   "source": [
    "## Why 50-80% Accuracy?\n",
    "You might be wondering why you can't get an accuracy any higher. First things first, 50% isn't bad for a simple CNN.  Pure guessing would get you 10% accuracy. However, you might notice people are getting scores [well above 80%](http://rodrigob.github.io/are_we_there_yet/build/classification_datasets_results.html#43494641522d3130).  That's because we haven't taught you all there is to know about neural networks. We still need to cover a few more techniques.\n",
    "## Submitting This Project\n",
    "When submitting this project, make sure to run all the cells before saving the notebook.  Save the notebook file as \"dlnd_image_classification.ipynb\" and save it as a HTML file under \"File\" -> \"Download as\".  Include the \"helper.py\" and \"problem_unittests.py\" files in your submission."
   ]
  },
  {
   "cell_type": "code",
   "execution_count": null,
   "metadata": {
    "collapsed": true
   },
   "outputs": [],
   "source": []
  }
 ],
 "metadata": {
  "kernelspec": {
   "display_name": "Python 3",
   "language": "python",
   "name": "python3"
  },
  "language_info": {
   "codemirror_mode": {
    "name": "ipython",
    "version": 3
   },
   "file_extension": ".py",
   "mimetype": "text/x-python",
   "name": "python",
   "nbconvert_exporter": "python",
   "pygments_lexer": "ipython3",
   "version": "3.5.2"
  },
  "widgets": {
   "state": {},
   "version": "1.1.2"
  }
 },
 "nbformat": 4,
 "nbformat_minor": 0
}
